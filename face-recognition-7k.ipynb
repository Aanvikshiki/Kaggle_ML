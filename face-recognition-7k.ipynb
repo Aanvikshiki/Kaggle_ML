{
 "cells": [
  {
   "cell_type": "markdown",
   "id": "0cd57141",
   "metadata": {
    "papermill": {
     "duration": 0.031781,
     "end_time": "2022-03-16T17:44:35.412598",
     "exception": false,
     "start_time": "2022-03-16T17:44:35.380817",
     "status": "completed"
    },
    "tags": []
   },
   "source": [
    "# Face Recognition\n",
    "#### 11-785, Spring 2022, Homework 2 Part 2 (hw2p2-classification) Kaggle Challenge\n",
    "#### https://www.kaggle.com/c/11-785-s22-hw2p2-classification/overview"
   ]
  },
  {
   "cell_type": "markdown",
   "id": "8b4c82b0",
   "metadata": {
    "papermill": {
     "duration": 0.029511,
     "end_time": "2022-03-16T17:44:35.471696",
     "exception": false,
     "start_time": "2022-03-16T17:44:35.442185",
     "status": "completed"
    },
    "tags": []
   },
   "source": [
    "### Made By: Gaurav Baweja"
   ]
  },
  {
   "cell_type": "markdown",
   "id": "e4f4fbb0",
   "metadata": {
    "papermill": {
     "duration": 0.028669,
     "end_time": "2022-03-16T17:44:35.529355",
     "exception": false,
     "start_time": "2022-03-16T17:44:35.500686",
     "status": "completed"
    },
    "tags": []
   },
   "source": [
    "### Import Libraries"
   ]
  },
  {
   "cell_type": "code",
   "execution_count": 1,
   "id": "a7f762d1",
   "metadata": {
    "execution": {
     "iopub.execute_input": "2022-03-16T17:44:35.593210Z",
     "iopub.status.busy": "2022-03-16T17:44:35.591727Z",
     "iopub.status.idle": "2022-03-16T17:44:41.712492Z",
     "shell.execute_reply": "2022-03-16T17:44:41.711925Z",
     "shell.execute_reply.started": "2022-03-16T16:31:28.208301Z"
    },
    "papermill": {
     "duration": 6.154822,
     "end_time": "2022-03-16T17:44:41.712676",
     "exception": false,
     "start_time": "2022-03-16T17:44:35.557854",
     "status": "completed"
    },
    "tags": []
   },
   "outputs": [],
   "source": [
    "import os\n",
    "import numpy as np\n",
    "import pandas as pd \n",
    "import cv2\n",
    "from tensorflow.keras.models import Sequential, Model\n",
    "from tensorflow.keras.layers import ZeroPadding2D, Convolution2D, MaxPooling2D, Dropout, Flatten, Activation\n",
    "from tqdm import tqdm,trange,tqdm_notebook\n",
    "from time import sleep\n",
    "import matplotlib.pyplot as plt\n",
    "from sklearn.model_selection import train_test_split\n",
    "from sklearn.preprocessing import StandardScaler\n",
    "from sklearn.decomposition import PCA\n",
    "from sklearn.svm import SVC\n",
    "from sklearn.metrics import classification_report,accuracy_score"
   ]
  },
  {
   "cell_type": "markdown",
   "id": "bd854db1",
   "metadata": {
    "papermill": {
     "duration": 0.028481,
     "end_time": "2022-03-16T17:44:41.769791",
     "exception": false,
     "start_time": "2022-03-16T17:44:41.741310",
     "status": "completed"
    },
    "tags": []
   },
   "source": [
    "### Fetch Data"
   ]
  },
  {
   "cell_type": "code",
   "execution_count": 2,
   "id": "77ee53f0",
   "metadata": {
    "execution": {
     "iopub.execute_input": "2022-03-16T17:44:41.833641Z",
     "iopub.status.busy": "2022-03-16T17:44:41.832762Z",
     "iopub.status.idle": "2022-03-16T17:44:41.835320Z",
     "shell.execute_reply": "2022-03-16T17:44:41.834891Z",
     "shell.execute_reply.started": "2022-03-16T16:07:22.633581Z"
    },
    "papermill": {
     "duration": 0.036594,
     "end_time": "2022-03-16T17:44:41.835431",
     "exception": false,
     "start_time": "2022-03-16T17:44:41.798837",
     "status": "completed"
    },
    "tags": []
   },
   "outputs": [],
   "source": [
    "#Class for loading images from direcotry\n",
    "class DirData():\n",
    "    def __init__(self, base, name, file):\n",
    "        self.base = base\n",
    "        # identity name\n",
    "        self.name = name\n",
    "        # image file name\n",
    "        self.file = file\n",
    "\n",
    "    def __repr__(self):\n",
    "        return self.image_path()\n",
    "\n",
    "    def image_path(self):\n",
    "        return os.path.join(self.base, self.name, self.file) \n"
   ]
  },
  {
   "cell_type": "code",
   "execution_count": 3,
   "id": "2e964dd6",
   "metadata": {
    "execution": {
     "iopub.execute_input": "2022-03-16T17:44:41.898829Z",
     "iopub.status.busy": "2022-03-16T17:44:41.898111Z",
     "iopub.status.idle": "2022-03-16T17:44:42.731130Z",
     "shell.execute_reply": "2022-03-16T17:44:42.730676Z",
     "shell.execute_reply.started": "2022-03-16T16:07:22.651341Z"
    },
    "papermill": {
     "duration": 0.867153,
     "end_time": "2022-03-16T17:44:42.731254",
     "exception": false,
     "start_time": "2022-03-16T17:44:41.864101",
     "status": "completed"
    },
    "tags": []
   },
   "outputs": [
    {
     "name": "stdout",
     "output_type": "stream",
     "text": [
      "Classes Dir shape : (2000,)\n"
     ]
    }
   ],
   "source": [
    "#Loading Train data from Classifiaction folder\n",
    "source_dir=os.path.join('/kaggle/input/11-785-s22-hw2p2-classification/classification/classification/train')\n",
    "classesDir = []\n",
    "cnt = 0\n",
    "for i in os.listdir(source_dir):\n",
    "    if(cnt==100): #For testing purpose else comment this\n",
    "        break\n",
    "    cnt += 1\n",
    "    for f in os.listdir(os.path.join(source_dir, i)):\n",
    "        classesDir.append(DirData(source_dir, i, f))\n",
    "classesDir = np.array(classesDir)\n",
    "\n",
    "print('Classes Dir shape :', classesDir.shape)"
   ]
  },
  {
   "cell_type": "code",
   "execution_count": 4,
   "id": "a69939ef",
   "metadata": {
    "execution": {
     "iopub.execute_input": "2022-03-16T17:44:42.795950Z",
     "iopub.status.busy": "2022-03-16T17:44:42.794148Z",
     "iopub.status.idle": "2022-03-16T17:44:42.796603Z",
     "shell.execute_reply": "2022-03-16T17:44:42.797026Z",
     "shell.execute_reply.started": "2022-03-16T16:07:23.381349Z"
    },
    "papermill": {
     "duration": 0.036333,
     "end_time": "2022-03-16T17:44:42.797159",
     "exception": false,
     "start_time": "2022-03-16T17:44:42.760826",
     "status": "completed"
    },
    "tags": []
   },
   "outputs": [],
   "source": [
    "def load_image(path):\n",
    "    img = cv2.imread(path, 1)\n",
    "    # BGR to RGB\n",
    "    return img[...,::-1]"
   ]
  },
  {
   "cell_type": "markdown",
   "id": "986b9e3c",
   "metadata": {
    "papermill": {
     "duration": 0.028537,
     "end_time": "2022-03-16T17:44:42.854447",
     "exception": false,
     "start_time": "2022-03-16T17:44:42.825910",
     "status": "completed"
    },
    "tags": []
   },
   "source": [
    "### Load Model"
   ]
  },
  {
   "cell_type": "code",
   "execution_count": 5,
   "id": "e4f0841d",
   "metadata": {
    "execution": {
     "iopub.execute_input": "2022-03-16T17:44:42.931066Z",
     "iopub.status.busy": "2022-03-16T17:44:42.930175Z",
     "iopub.status.idle": "2022-03-16T17:44:42.931970Z",
     "shell.execute_reply": "2022-03-16T17:44:42.932448Z",
     "shell.execute_reply.started": "2022-03-16T16:07:23.388179Z"
    },
    "papermill": {
     "duration": 0.04853,
     "end_time": "2022-03-16T17:44:42.932604",
     "exception": false,
     "start_time": "2022-03-16T17:44:42.884074",
     "status": "completed"
    },
    "tags": []
   },
   "outputs": [],
   "source": [
    "def vgg_face():\n",
    "    model = Sequential()\n",
    "    model.add(ZeroPadding2D((1,1),input_shape=(224,224, 3)))\n",
    "    model.add(Convolution2D(64, (3, 3), activation='relu'))\n",
    "    model.add(ZeroPadding2D((1,1)))\n",
    "    model.add(Convolution2D(64, (3, 3), activation='relu'))\n",
    "    model.add(MaxPooling2D((2,2), strides=(2,2)))\n",
    "    \n",
    "    model.add(ZeroPadding2D((1,1)))\n",
    "    model.add(Convolution2D(128, (3, 3), activation='relu'))\n",
    "    model.add(ZeroPadding2D((1,1)))\n",
    "    model.add(Convolution2D(128, (3, 3), activation='relu'))\n",
    "    model.add(MaxPooling2D((2,2), strides=(2,2)))\n",
    "    \n",
    "    model.add(ZeroPadding2D((1,1)))\n",
    "    model.add(Convolution2D(256, (3, 3), activation='relu'))\n",
    "    model.add(ZeroPadding2D((1,1)))\n",
    "    model.add(Convolution2D(256, (3, 3), activation='relu'))\n",
    "    model.add(ZeroPadding2D((1,1)))\n",
    "    model.add(Convolution2D(256, (3, 3), activation='relu'))\n",
    "    model.add(MaxPooling2D((2,2), strides=(2,2)))\n",
    "    \n",
    "    model.add(ZeroPadding2D((1,1)))\n",
    "    model.add(Convolution2D(512, (3, 3), activation='relu'))\n",
    "    model.add(ZeroPadding2D((1,1)))\n",
    "    model.add(Convolution2D(512, (3, 3), activation='relu'))\n",
    "    model.add(ZeroPadding2D((1,1)))\n",
    "    model.add(Convolution2D(512, (3, 3), activation='relu'))\n",
    "    model.add(MaxPooling2D((2,2), strides=(2,2)))\n",
    "    \n",
    "    model.add(ZeroPadding2D((1,1)))\n",
    "    model.add(Convolution2D(512, (3, 3), activation='relu'))\n",
    "    model.add(ZeroPadding2D((1,1)))\n",
    "    model.add(Convolution2D(512, (3, 3), activation='relu'))\n",
    "    model.add(ZeroPadding2D((1,1)))\n",
    "    model.add(Convolution2D(512, (3, 3), activation='relu'))\n",
    "    model.add(MaxPooling2D((2,2), strides=(2,2)))\n",
    "    \n",
    "    model.add(Convolution2D(4096, (7, 7), activation='relu'))\n",
    "    model.add(Dropout(0.5))\n",
    "    model.add(Convolution2D(4096, (1, 1), activation='relu'))\n",
    "    model.add(Dropout(0.5))\n",
    "    model.add(Convolution2D(2622, (1, 1)))\n",
    "    model.add(Flatten())\n",
    "    model.add(Activation('softmax'))\n",
    "    return model"
   ]
  },
  {
   "cell_type": "code",
   "execution_count": 6,
   "id": "2f1199c0",
   "metadata": {
    "execution": {
     "iopub.execute_input": "2022-03-16T17:44:43.000033Z",
     "iopub.status.busy": "2022-03-16T17:44:42.999300Z",
     "iopub.status.idle": "2022-03-16T17:44:50.901261Z",
     "shell.execute_reply": "2022-03-16T17:44:50.900155Z",
     "shell.execute_reply.started": "2022-03-16T16:07:23.408457Z"
    },
    "papermill": {
     "duration": 7.938975,
     "end_time": "2022-03-16T17:44:50.901408",
     "exception": false,
     "start_time": "2022-03-16T17:44:42.962433",
     "status": "completed"
    },
    "tags": []
   },
   "outputs": [
    {
     "name": "stderr",
     "output_type": "stream",
     "text": [
      "2022-03-16 17:44:43.070599: I tensorflow/stream_executor/cuda/cuda_gpu_executor.cc:937] successful NUMA node read from SysFS had negative value (-1), but there must be at least one NUMA node, so returning NUMA node zero\n",
      "2022-03-16 17:44:43.169896: I tensorflow/stream_executor/cuda/cuda_gpu_executor.cc:937] successful NUMA node read from SysFS had negative value (-1), but there must be at least one NUMA node, so returning NUMA node zero\n",
      "2022-03-16 17:44:43.170639: I tensorflow/stream_executor/cuda/cuda_gpu_executor.cc:937] successful NUMA node read from SysFS had negative value (-1), but there must be at least one NUMA node, so returning NUMA node zero\n",
      "2022-03-16 17:44:43.172606: I tensorflow/core/platform/cpu_feature_guard.cc:142] This TensorFlow binary is optimized with oneAPI Deep Neural Network Library (oneDNN) to use the following CPU instructions in performance-critical operations:  AVX2 AVX512F FMA\n",
      "To enable them in other operations, rebuild TensorFlow with the appropriate compiler flags.\n",
      "2022-03-16 17:44:43.173390: I tensorflow/stream_executor/cuda/cuda_gpu_executor.cc:937] successful NUMA node read from SysFS had negative value (-1), but there must be at least one NUMA node, so returning NUMA node zero\n",
      "2022-03-16 17:44:43.174154: I tensorflow/stream_executor/cuda/cuda_gpu_executor.cc:937] successful NUMA node read from SysFS had negative value (-1), but there must be at least one NUMA node, so returning NUMA node zero\n",
      "2022-03-16 17:44:43.174847: I tensorflow/stream_executor/cuda/cuda_gpu_executor.cc:937] successful NUMA node read from SysFS had negative value (-1), but there must be at least one NUMA node, so returning NUMA node zero\n",
      "2022-03-16 17:44:45.050428: I tensorflow/stream_executor/cuda/cuda_gpu_executor.cc:937] successful NUMA node read from SysFS had negative value (-1), but there must be at least one NUMA node, so returning NUMA node zero\n",
      "2022-03-16 17:44:45.051268: I tensorflow/stream_executor/cuda/cuda_gpu_executor.cc:937] successful NUMA node read from SysFS had negative value (-1), but there must be at least one NUMA node, so returning NUMA node zero\n",
      "2022-03-16 17:44:45.051933: I tensorflow/stream_executor/cuda/cuda_gpu_executor.cc:937] successful NUMA node read from SysFS had negative value (-1), but there must be at least one NUMA node, so returning NUMA node zero\n",
      "2022-03-16 17:44:45.052521: I tensorflow/core/common_runtime/gpu/gpu_device.cc:1510] Created device /job:localhost/replica:0/task:0/device:GPU:0 with 15403 MB memory:  -> device: 0, name: Tesla P100-PCIE-16GB, pci bus id: 0000:00:04.0, compute capability: 6.0\n"
     ]
    }
   ],
   "source": [
    "#Craeting CNN model and loading weights from VGG_face model as a trasfer learning\n",
    "model = vgg_face()\n",
    "model.load_weights('../input/vgg-face-weights/vgg_face_weights.h5')\n",
    "vgg_face_descriptor = Model(inputs=model.layers[0].input, outputs=model.layers[-2].output)"
   ]
  },
  {
   "cell_type": "markdown",
   "id": "a4d6dd8f",
   "metadata": {
    "papermill": {
     "duration": 0.029008,
     "end_time": "2022-03-16T17:44:50.961450",
     "exception": false,
     "start_time": "2022-03-16T17:44:50.932442",
     "status": "completed"
    },
    "tags": []
   },
   "source": [
    "### Preprocessing & Training"
   ]
  },
  {
   "cell_type": "code",
   "execution_count": 7,
   "id": "bcfd2488",
   "metadata": {
    "execution": {
     "iopub.execute_input": "2022-03-16T17:44:51.028198Z",
     "iopub.status.busy": "2022-03-16T17:44:51.027333Z",
     "iopub.status.idle": "2022-03-16T17:44:51.029381Z",
     "shell.execute_reply": "2022-03-16T17:44:51.029865Z",
     "shell.execute_reply.started": "2022-03-16T16:35:33.810459Z"
    },
    "papermill": {
     "duration": 0.038568,
     "end_time": "2022-03-16T17:44:51.030006",
     "exception": false,
     "start_time": "2022-03-16T17:44:50.991438",
     "status": "completed"
    },
    "tags": []
   },
   "outputs": [],
   "source": [
    "#Encoding Images directory name to integer\n",
    "targets = np.array([m.name for m in classesDir])\n",
    "targets=[int(name[1:])for name in targets]"
   ]
  },
  {
   "cell_type": "code",
   "execution_count": 8,
   "id": "34bfe3ea",
   "metadata": {
    "execution": {
     "iopub.execute_input": "2022-03-16T17:44:51.095939Z",
     "iopub.status.busy": "2022-03-16T17:44:51.094654Z",
     "iopub.status.idle": "2022-03-16T17:47:57.768064Z",
     "shell.execute_reply": "2022-03-16T17:47:57.768489Z",
     "shell.execute_reply.started": "2022-03-16T16:08:22.962075Z"
    },
    "papermill": {
     "duration": 186.708998,
     "end_time": "2022-03-16T17:47:57.768669",
     "exception": false,
     "start_time": "2022-03-16T17:44:51.059671",
     "status": "completed"
    },
    "tags": []
   },
   "outputs": [
    {
     "name": "stderr",
     "output_type": "stream",
     "text": [
      "0it [00:00, ?it/s]2022-03-16 17:44:51.178481: I tensorflow/compiler/mlir/mlir_graph_optimization_pass.cc:185] None of the MLIR Optimization Passes are enabled (registered 2)\n",
      "2022-03-16 17:44:52.113026: I tensorflow/stream_executor/cuda/cuda_dnn.cc:369] Loaded cuDNN version 8005\n",
      "2000it [03:06, 10.71it/s]\n"
     ]
    }
   ],
   "source": [
    "#Embedding the images in the model\n",
    "embeddings = np.zeros((classesDir.shape[0], 2622))\n",
    "for i, m in tqdm(enumerate(classesDir)):\n",
    "    img_path = classesDir[i].image_path()\n",
    "    img = load_image(img_path)\n",
    "    img = (img / 255.).astype(np.float32)\n",
    "    img = cv2.resize(img, dsize = (224,224))\n",
    "    embedding_vector = vgg_face_descriptor.predict(np.expand_dims(img, axis=0))[0]\n",
    "    embeddings[i]=embedding_vector"
   ]
  },
  {
   "cell_type": "code",
   "execution_count": 9,
   "id": "51dbbc98",
   "metadata": {
    "execution": {
     "iopub.execute_input": "2022-03-16T17:47:58.472888Z",
     "iopub.status.busy": "2022-03-16T17:47:58.468925Z",
     "iopub.status.idle": "2022-03-16T17:47:58.499254Z",
     "shell.execute_reply": "2022-03-16T17:47:58.499683Z",
     "shell.execute_reply.started": "2022-03-16T16:11:31.645191Z"
    },
    "papermill": {
     "duration": 0.380053,
     "end_time": "2022-03-16T17:47:58.499839",
     "exception": false,
     "start_time": "2022-03-16T17:47:58.119786",
     "status": "completed"
    },
    "tags": []
   },
   "outputs": [
    {
     "data": {
      "text/html": [
       "<div>\n",
       "<style scoped>\n",
       "    .dataframe tbody tr th:only-of-type {\n",
       "        vertical-align: middle;\n",
       "    }\n",
       "\n",
       "    .dataframe tbody tr th {\n",
       "        vertical-align: top;\n",
       "    }\n",
       "\n",
       "    .dataframe thead th {\n",
       "        text-align: right;\n",
       "    }\n",
       "</style>\n",
       "<table border=\"1\" class=\"dataframe\">\n",
       "  <thead>\n",
       "    <tr style=\"text-align: right;\">\n",
       "      <th></th>\n",
       "      <th>0</th>\n",
       "      <th>1</th>\n",
       "      <th>2</th>\n",
       "      <th>3</th>\n",
       "      <th>4</th>\n",
       "      <th>5</th>\n",
       "      <th>6</th>\n",
       "      <th>7</th>\n",
       "      <th>8</th>\n",
       "      <th>9</th>\n",
       "      <th>...</th>\n",
       "      <th>2613</th>\n",
       "      <th>2614</th>\n",
       "      <th>2615</th>\n",
       "      <th>2616</th>\n",
       "      <th>2617</th>\n",
       "      <th>2618</th>\n",
       "      <th>2619</th>\n",
       "      <th>2620</th>\n",
       "      <th>2621</th>\n",
       "      <th>label</th>\n",
       "    </tr>\n",
       "  </thead>\n",
       "  <tbody>\n",
       "    <tr>\n",
       "      <th>0</th>\n",
       "      <td>0.013631</td>\n",
       "      <td>0.006611</td>\n",
       "      <td>0.001769</td>\n",
       "      <td>0.006816</td>\n",
       "      <td>0.017156</td>\n",
       "      <td>0.021896</td>\n",
       "      <td>-0.002151</td>\n",
       "      <td>0.004057</td>\n",
       "      <td>-0.011011</td>\n",
       "      <td>-0.002412</td>\n",
       "      <td>...</td>\n",
       "      <td>0.002127</td>\n",
       "      <td>-0.014581</td>\n",
       "      <td>0.002920</td>\n",
       "      <td>0.018414</td>\n",
       "      <td>-0.026867</td>\n",
       "      <td>-0.004893</td>\n",
       "      <td>-0.032110</td>\n",
       "      <td>0.003280</td>\n",
       "      <td>-0.009990</td>\n",
       "      <td>8215</td>\n",
       "    </tr>\n",
       "    <tr>\n",
       "      <th>1</th>\n",
       "      <td>0.001027</td>\n",
       "      <td>0.009659</td>\n",
       "      <td>-0.012803</td>\n",
       "      <td>0.007168</td>\n",
       "      <td>0.014574</td>\n",
       "      <td>0.029039</td>\n",
       "      <td>0.021830</td>\n",
       "      <td>0.023140</td>\n",
       "      <td>0.004749</td>\n",
       "      <td>-0.002216</td>\n",
       "      <td>...</td>\n",
       "      <td>-0.012684</td>\n",
       "      <td>-0.007423</td>\n",
       "      <td>0.017242</td>\n",
       "      <td>0.021423</td>\n",
       "      <td>-0.022279</td>\n",
       "      <td>-0.003210</td>\n",
       "      <td>-0.029162</td>\n",
       "      <td>0.008088</td>\n",
       "      <td>0.021325</td>\n",
       "      <td>8215</td>\n",
       "    </tr>\n",
       "    <tr>\n",
       "      <th>2</th>\n",
       "      <td>0.022090</td>\n",
       "      <td>0.010806</td>\n",
       "      <td>-0.009623</td>\n",
       "      <td>0.006210</td>\n",
       "      <td>0.015311</td>\n",
       "      <td>0.027780</td>\n",
       "      <td>0.002337</td>\n",
       "      <td>0.012288</td>\n",
       "      <td>-0.006372</td>\n",
       "      <td>0.019720</td>\n",
       "      <td>...</td>\n",
       "      <td>-0.001646</td>\n",
       "      <td>-0.023101</td>\n",
       "      <td>0.020786</td>\n",
       "      <td>0.018775</td>\n",
       "      <td>-0.037134</td>\n",
       "      <td>-0.009516</td>\n",
       "      <td>-0.028309</td>\n",
       "      <td>0.005284</td>\n",
       "      <td>0.010383</td>\n",
       "      <td>8215</td>\n",
       "    </tr>\n",
       "    <tr>\n",
       "      <th>3</th>\n",
       "      <td>0.019124</td>\n",
       "      <td>0.004529</td>\n",
       "      <td>-0.013105</td>\n",
       "      <td>0.013217</td>\n",
       "      <td>0.017883</td>\n",
       "      <td>0.015584</td>\n",
       "      <td>0.006625</td>\n",
       "      <td>0.032401</td>\n",
       "      <td>-0.000201</td>\n",
       "      <td>0.023196</td>\n",
       "      <td>...</td>\n",
       "      <td>-0.009858</td>\n",
       "      <td>-0.006466</td>\n",
       "      <td>0.030965</td>\n",
       "      <td>0.020019</td>\n",
       "      <td>-0.024566</td>\n",
       "      <td>-0.010479</td>\n",
       "      <td>-0.017863</td>\n",
       "      <td>0.009475</td>\n",
       "      <td>0.019993</td>\n",
       "      <td>8215</td>\n",
       "    </tr>\n",
       "    <tr>\n",
       "      <th>4</th>\n",
       "      <td>0.010663</td>\n",
       "      <td>0.011862</td>\n",
       "      <td>-0.020526</td>\n",
       "      <td>0.014488</td>\n",
       "      <td>0.019959</td>\n",
       "      <td>-0.002666</td>\n",
       "      <td>-0.019209</td>\n",
       "      <td>0.016727</td>\n",
       "      <td>-0.013771</td>\n",
       "      <td>0.009205</td>\n",
       "      <td>...</td>\n",
       "      <td>-0.030093</td>\n",
       "      <td>-0.014066</td>\n",
       "      <td>0.022290</td>\n",
       "      <td>0.035661</td>\n",
       "      <td>-0.019932</td>\n",
       "      <td>-0.018376</td>\n",
       "      <td>0.016488</td>\n",
       "      <td>0.012769</td>\n",
       "      <td>0.022522</td>\n",
       "      <td>8215</td>\n",
       "    </tr>\n",
       "    <tr>\n",
       "      <th>...</th>\n",
       "      <td>...</td>\n",
       "      <td>...</td>\n",
       "      <td>...</td>\n",
       "      <td>...</td>\n",
       "      <td>...</td>\n",
       "      <td>...</td>\n",
       "      <td>...</td>\n",
       "      <td>...</td>\n",
       "      <td>...</td>\n",
       "      <td>...</td>\n",
       "      <td>...</td>\n",
       "      <td>...</td>\n",
       "      <td>...</td>\n",
       "      <td>...</td>\n",
       "      <td>...</td>\n",
       "      <td>...</td>\n",
       "      <td>...</td>\n",
       "      <td>...</td>\n",
       "      <td>...</td>\n",
       "      <td>...</td>\n",
       "      <td>...</td>\n",
       "    </tr>\n",
       "    <tr>\n",
       "      <th>1995</th>\n",
       "      <td>0.004430</td>\n",
       "      <td>-0.007365</td>\n",
       "      <td>0.000537</td>\n",
       "      <td>0.021709</td>\n",
       "      <td>0.004793</td>\n",
       "      <td>0.021291</td>\n",
       "      <td>-0.005495</td>\n",
       "      <td>0.005130</td>\n",
       "      <td>0.017735</td>\n",
       "      <td>-0.007102</td>\n",
       "      <td>...</td>\n",
       "      <td>0.005892</td>\n",
       "      <td>0.002860</td>\n",
       "      <td>0.008258</td>\n",
       "      <td>0.008365</td>\n",
       "      <td>0.000243</td>\n",
       "      <td>-0.018445</td>\n",
       "      <td>-0.014606</td>\n",
       "      <td>0.002733</td>\n",
       "      <td>-0.006109</td>\n",
       "      <td>1905</td>\n",
       "    </tr>\n",
       "    <tr>\n",
       "      <th>1996</th>\n",
       "      <td>0.012511</td>\n",
       "      <td>0.016096</td>\n",
       "      <td>-0.005551</td>\n",
       "      <td>0.007447</td>\n",
       "      <td>0.001542</td>\n",
       "      <td>0.009078</td>\n",
       "      <td>0.002903</td>\n",
       "      <td>0.006447</td>\n",
       "      <td>0.004962</td>\n",
       "      <td>0.003241</td>\n",
       "      <td>...</td>\n",
       "      <td>0.018543</td>\n",
       "      <td>0.001671</td>\n",
       "      <td>0.018054</td>\n",
       "      <td>0.000586</td>\n",
       "      <td>0.001234</td>\n",
       "      <td>-0.012925</td>\n",
       "      <td>-0.015562</td>\n",
       "      <td>0.014368</td>\n",
       "      <td>0.000974</td>\n",
       "      <td>1905</td>\n",
       "    </tr>\n",
       "    <tr>\n",
       "      <th>1997</th>\n",
       "      <td>0.009202</td>\n",
       "      <td>0.004181</td>\n",
       "      <td>0.010670</td>\n",
       "      <td>0.016573</td>\n",
       "      <td>0.009098</td>\n",
       "      <td>0.007065</td>\n",
       "      <td>0.005246</td>\n",
       "      <td>0.007817</td>\n",
       "      <td>0.026373</td>\n",
       "      <td>0.011137</td>\n",
       "      <td>...</td>\n",
       "      <td>-0.001456</td>\n",
       "      <td>-0.000383</td>\n",
       "      <td>0.000351</td>\n",
       "      <td>-0.005544</td>\n",
       "      <td>-0.014237</td>\n",
       "      <td>-0.026565</td>\n",
       "      <td>-0.007928</td>\n",
       "      <td>0.005718</td>\n",
       "      <td>0.004673</td>\n",
       "      <td>1905</td>\n",
       "    </tr>\n",
       "    <tr>\n",
       "      <th>1998</th>\n",
       "      <td>0.012931</td>\n",
       "      <td>-0.014421</td>\n",
       "      <td>0.009904</td>\n",
       "      <td>0.025936</td>\n",
       "      <td>0.004444</td>\n",
       "      <td>-0.000863</td>\n",
       "      <td>-0.005330</td>\n",
       "      <td>0.020063</td>\n",
       "      <td>0.018949</td>\n",
       "      <td>0.000314</td>\n",
       "      <td>...</td>\n",
       "      <td>-0.005652</td>\n",
       "      <td>-0.002921</td>\n",
       "      <td>0.003979</td>\n",
       "      <td>0.000119</td>\n",
       "      <td>-0.017577</td>\n",
       "      <td>-0.028429</td>\n",
       "      <td>-0.014860</td>\n",
       "      <td>0.000281</td>\n",
       "      <td>0.012611</td>\n",
       "      <td>1905</td>\n",
       "    </tr>\n",
       "    <tr>\n",
       "      <th>1999</th>\n",
       "      <td>0.010238</td>\n",
       "      <td>-0.012695</td>\n",
       "      <td>-0.002602</td>\n",
       "      <td>0.021372</td>\n",
       "      <td>0.005197</td>\n",
       "      <td>0.012159</td>\n",
       "      <td>-0.010271</td>\n",
       "      <td>0.008178</td>\n",
       "      <td>0.005839</td>\n",
       "      <td>0.009673</td>\n",
       "      <td>...</td>\n",
       "      <td>0.004802</td>\n",
       "      <td>-0.003566</td>\n",
       "      <td>0.006099</td>\n",
       "      <td>-0.002350</td>\n",
       "      <td>-0.006706</td>\n",
       "      <td>-0.011030</td>\n",
       "      <td>-0.007361</td>\n",
       "      <td>-0.000814</td>\n",
       "      <td>0.003351</td>\n",
       "      <td>1905</td>\n",
       "    </tr>\n",
       "  </tbody>\n",
       "</table>\n",
       "<p>2000 rows × 2623 columns</p>\n",
       "</div>"
      ],
      "text/plain": [
       "             0         1         2         3         4         5         6  \\\n",
       "0     0.013631  0.006611  0.001769  0.006816  0.017156  0.021896 -0.002151   \n",
       "1     0.001027  0.009659 -0.012803  0.007168  0.014574  0.029039  0.021830   \n",
       "2     0.022090  0.010806 -0.009623  0.006210  0.015311  0.027780  0.002337   \n",
       "3     0.019124  0.004529 -0.013105  0.013217  0.017883  0.015584  0.006625   \n",
       "4     0.010663  0.011862 -0.020526  0.014488  0.019959 -0.002666 -0.019209   \n",
       "...        ...       ...       ...       ...       ...       ...       ...   \n",
       "1995  0.004430 -0.007365  0.000537  0.021709  0.004793  0.021291 -0.005495   \n",
       "1996  0.012511  0.016096 -0.005551  0.007447  0.001542  0.009078  0.002903   \n",
       "1997  0.009202  0.004181  0.010670  0.016573  0.009098  0.007065  0.005246   \n",
       "1998  0.012931 -0.014421  0.009904  0.025936  0.004444 -0.000863 -0.005330   \n",
       "1999  0.010238 -0.012695 -0.002602  0.021372  0.005197  0.012159 -0.010271   \n",
       "\n",
       "             7         8         9  ...      2613      2614      2615  \\\n",
       "0     0.004057 -0.011011 -0.002412  ...  0.002127 -0.014581  0.002920   \n",
       "1     0.023140  0.004749 -0.002216  ... -0.012684 -0.007423  0.017242   \n",
       "2     0.012288 -0.006372  0.019720  ... -0.001646 -0.023101  0.020786   \n",
       "3     0.032401 -0.000201  0.023196  ... -0.009858 -0.006466  0.030965   \n",
       "4     0.016727 -0.013771  0.009205  ... -0.030093 -0.014066  0.022290   \n",
       "...        ...       ...       ...  ...       ...       ...       ...   \n",
       "1995  0.005130  0.017735 -0.007102  ...  0.005892  0.002860  0.008258   \n",
       "1996  0.006447  0.004962  0.003241  ...  0.018543  0.001671  0.018054   \n",
       "1997  0.007817  0.026373  0.011137  ... -0.001456 -0.000383  0.000351   \n",
       "1998  0.020063  0.018949  0.000314  ... -0.005652 -0.002921  0.003979   \n",
       "1999  0.008178  0.005839  0.009673  ...  0.004802 -0.003566  0.006099   \n",
       "\n",
       "          2616      2617      2618      2619      2620      2621  label  \n",
       "0     0.018414 -0.026867 -0.004893 -0.032110  0.003280 -0.009990   8215  \n",
       "1     0.021423 -0.022279 -0.003210 -0.029162  0.008088  0.021325   8215  \n",
       "2     0.018775 -0.037134 -0.009516 -0.028309  0.005284  0.010383   8215  \n",
       "3     0.020019 -0.024566 -0.010479 -0.017863  0.009475  0.019993   8215  \n",
       "4     0.035661 -0.019932 -0.018376  0.016488  0.012769  0.022522   8215  \n",
       "...        ...       ...       ...       ...       ...       ...    ...  \n",
       "1995  0.008365  0.000243 -0.018445 -0.014606  0.002733 -0.006109   1905  \n",
       "1996  0.000586  0.001234 -0.012925 -0.015562  0.014368  0.000974   1905  \n",
       "1997 -0.005544 -0.014237 -0.026565 -0.007928  0.005718  0.004673   1905  \n",
       "1998  0.000119 -0.017577 -0.028429 -0.014860  0.000281  0.012611   1905  \n",
       "1999 -0.002350 -0.006706 -0.011030 -0.007361 -0.000814  0.003351   1905  \n",
       "\n",
       "[2000 rows x 2623 columns]"
      ]
     },
     "execution_count": 9,
     "metadata": {},
     "output_type": "execute_result"
    }
   ],
   "source": [
    "#Convering embedded output of images to data frame\n",
    "df_train=pd.DataFrame(embeddings)\n",
    "df_train['label']=targets\n",
    "df_train"
   ]
  },
  {
   "cell_type": "markdown",
   "id": "6f6a2919",
   "metadata": {
    "papermill": {
     "duration": 0.342708,
     "end_time": "2022-03-16T17:47:59.179704",
     "exception": false,
     "start_time": "2022-03-16T17:47:58.836996",
     "status": "completed"
    },
    "tags": []
   },
   "source": [
    "### Test-Train Split Data"
   ]
  },
  {
   "cell_type": "code",
   "execution_count": 10,
   "id": "5fb1d21f",
   "metadata": {
    "execution": {
     "iopub.execute_input": "2022-03-16T17:47:59.886561Z",
     "iopub.status.busy": "2022-03-16T17:47:59.884109Z",
     "iopub.status.idle": "2022-03-16T17:47:59.909747Z",
     "shell.execute_reply": "2022-03-16T17:47:59.910219Z",
     "shell.execute_reply.started": "2022-03-16T16:11:31.688966Z"
    },
    "papermill": {
     "duration": 0.386586,
     "end_time": "2022-03-16T17:47:59.910378",
     "exception": false,
     "start_time": "2022-03-16T17:47:59.523792",
     "status": "completed"
    },
    "tags": []
   },
   "outputs": [
    {
     "data": {
      "text/html": [
       "<div>\n",
       "<style scoped>\n",
       "    .dataframe tbody tr th:only-of-type {\n",
       "        vertical-align: middle;\n",
       "    }\n",
       "\n",
       "    .dataframe tbody tr th {\n",
       "        vertical-align: top;\n",
       "    }\n",
       "\n",
       "    .dataframe thead th {\n",
       "        text-align: right;\n",
       "    }\n",
       "</style>\n",
       "<table border=\"1\" class=\"dataframe\">\n",
       "  <thead>\n",
       "    <tr style=\"text-align: right;\">\n",
       "      <th></th>\n",
       "      <th>0</th>\n",
       "      <th>1</th>\n",
       "      <th>2</th>\n",
       "      <th>3</th>\n",
       "      <th>4</th>\n",
       "      <th>5</th>\n",
       "      <th>6</th>\n",
       "      <th>7</th>\n",
       "      <th>8</th>\n",
       "      <th>9</th>\n",
       "      <th>...</th>\n",
       "      <th>2612</th>\n",
       "      <th>2613</th>\n",
       "      <th>2614</th>\n",
       "      <th>2615</th>\n",
       "      <th>2616</th>\n",
       "      <th>2617</th>\n",
       "      <th>2618</th>\n",
       "      <th>2619</th>\n",
       "      <th>2620</th>\n",
       "      <th>2621</th>\n",
       "    </tr>\n",
       "  </thead>\n",
       "  <tbody>\n",
       "    <tr>\n",
       "      <th>0</th>\n",
       "      <td>0.013631</td>\n",
       "      <td>0.006611</td>\n",
       "      <td>0.001769</td>\n",
       "      <td>0.006816</td>\n",
       "      <td>0.017156</td>\n",
       "      <td>0.021896</td>\n",
       "      <td>-0.002151</td>\n",
       "      <td>0.004057</td>\n",
       "      <td>-0.011011</td>\n",
       "      <td>-0.002412</td>\n",
       "      <td>...</td>\n",
       "      <td>-0.014792</td>\n",
       "      <td>0.002127</td>\n",
       "      <td>-0.014581</td>\n",
       "      <td>0.002920</td>\n",
       "      <td>0.018414</td>\n",
       "      <td>-0.026867</td>\n",
       "      <td>-0.004893</td>\n",
       "      <td>-0.032110</td>\n",
       "      <td>0.003280</td>\n",
       "      <td>-0.009990</td>\n",
       "    </tr>\n",
       "    <tr>\n",
       "      <th>1</th>\n",
       "      <td>0.001027</td>\n",
       "      <td>0.009659</td>\n",
       "      <td>-0.012803</td>\n",
       "      <td>0.007168</td>\n",
       "      <td>0.014574</td>\n",
       "      <td>0.029039</td>\n",
       "      <td>0.021830</td>\n",
       "      <td>0.023140</td>\n",
       "      <td>0.004749</td>\n",
       "      <td>-0.002216</td>\n",
       "      <td>...</td>\n",
       "      <td>-0.026003</td>\n",
       "      <td>-0.012684</td>\n",
       "      <td>-0.007423</td>\n",
       "      <td>0.017242</td>\n",
       "      <td>0.021423</td>\n",
       "      <td>-0.022279</td>\n",
       "      <td>-0.003210</td>\n",
       "      <td>-0.029162</td>\n",
       "      <td>0.008088</td>\n",
       "      <td>0.021325</td>\n",
       "    </tr>\n",
       "    <tr>\n",
       "      <th>2</th>\n",
       "      <td>0.022090</td>\n",
       "      <td>0.010806</td>\n",
       "      <td>-0.009623</td>\n",
       "      <td>0.006210</td>\n",
       "      <td>0.015311</td>\n",
       "      <td>0.027780</td>\n",
       "      <td>0.002337</td>\n",
       "      <td>0.012288</td>\n",
       "      <td>-0.006372</td>\n",
       "      <td>0.019720</td>\n",
       "      <td>...</td>\n",
       "      <td>-0.006503</td>\n",
       "      <td>-0.001646</td>\n",
       "      <td>-0.023101</td>\n",
       "      <td>0.020786</td>\n",
       "      <td>0.018775</td>\n",
       "      <td>-0.037134</td>\n",
       "      <td>-0.009516</td>\n",
       "      <td>-0.028309</td>\n",
       "      <td>0.005284</td>\n",
       "      <td>0.010383</td>\n",
       "    </tr>\n",
       "    <tr>\n",
       "      <th>3</th>\n",
       "      <td>0.019124</td>\n",
       "      <td>0.004529</td>\n",
       "      <td>-0.013105</td>\n",
       "      <td>0.013217</td>\n",
       "      <td>0.017883</td>\n",
       "      <td>0.015584</td>\n",
       "      <td>0.006625</td>\n",
       "      <td>0.032401</td>\n",
       "      <td>-0.000201</td>\n",
       "      <td>0.023196</td>\n",
       "      <td>...</td>\n",
       "      <td>-0.011800</td>\n",
       "      <td>-0.009858</td>\n",
       "      <td>-0.006466</td>\n",
       "      <td>0.030965</td>\n",
       "      <td>0.020019</td>\n",
       "      <td>-0.024566</td>\n",
       "      <td>-0.010479</td>\n",
       "      <td>-0.017863</td>\n",
       "      <td>0.009475</td>\n",
       "      <td>0.019993</td>\n",
       "    </tr>\n",
       "    <tr>\n",
       "      <th>4</th>\n",
       "      <td>0.010663</td>\n",
       "      <td>0.011862</td>\n",
       "      <td>-0.020526</td>\n",
       "      <td>0.014488</td>\n",
       "      <td>0.019959</td>\n",
       "      <td>-0.002666</td>\n",
       "      <td>-0.019209</td>\n",
       "      <td>0.016727</td>\n",
       "      <td>-0.013771</td>\n",
       "      <td>0.009205</td>\n",
       "      <td>...</td>\n",
       "      <td>-0.021748</td>\n",
       "      <td>-0.030093</td>\n",
       "      <td>-0.014066</td>\n",
       "      <td>0.022290</td>\n",
       "      <td>0.035661</td>\n",
       "      <td>-0.019932</td>\n",
       "      <td>-0.018376</td>\n",
       "      <td>0.016488</td>\n",
       "      <td>0.012769</td>\n",
       "      <td>0.022522</td>\n",
       "    </tr>\n",
       "    <tr>\n",
       "      <th>...</th>\n",
       "      <td>...</td>\n",
       "      <td>...</td>\n",
       "      <td>...</td>\n",
       "      <td>...</td>\n",
       "      <td>...</td>\n",
       "      <td>...</td>\n",
       "      <td>...</td>\n",
       "      <td>...</td>\n",
       "      <td>...</td>\n",
       "      <td>...</td>\n",
       "      <td>...</td>\n",
       "      <td>...</td>\n",
       "      <td>...</td>\n",
       "      <td>...</td>\n",
       "      <td>...</td>\n",
       "      <td>...</td>\n",
       "      <td>...</td>\n",
       "      <td>...</td>\n",
       "      <td>...</td>\n",
       "      <td>...</td>\n",
       "      <td>...</td>\n",
       "    </tr>\n",
       "    <tr>\n",
       "      <th>1995</th>\n",
       "      <td>0.004430</td>\n",
       "      <td>-0.007365</td>\n",
       "      <td>0.000537</td>\n",
       "      <td>0.021709</td>\n",
       "      <td>0.004793</td>\n",
       "      <td>0.021291</td>\n",
       "      <td>-0.005495</td>\n",
       "      <td>0.005130</td>\n",
       "      <td>0.017735</td>\n",
       "      <td>-0.007102</td>\n",
       "      <td>...</td>\n",
       "      <td>-0.012751</td>\n",
       "      <td>0.005892</td>\n",
       "      <td>0.002860</td>\n",
       "      <td>0.008258</td>\n",
       "      <td>0.008365</td>\n",
       "      <td>0.000243</td>\n",
       "      <td>-0.018445</td>\n",
       "      <td>-0.014606</td>\n",
       "      <td>0.002733</td>\n",
       "      <td>-0.006109</td>\n",
       "    </tr>\n",
       "    <tr>\n",
       "      <th>1996</th>\n",
       "      <td>0.012511</td>\n",
       "      <td>0.016096</td>\n",
       "      <td>-0.005551</td>\n",
       "      <td>0.007447</td>\n",
       "      <td>0.001542</td>\n",
       "      <td>0.009078</td>\n",
       "      <td>0.002903</td>\n",
       "      <td>0.006447</td>\n",
       "      <td>0.004962</td>\n",
       "      <td>0.003241</td>\n",
       "      <td>...</td>\n",
       "      <td>-0.009292</td>\n",
       "      <td>0.018543</td>\n",
       "      <td>0.001671</td>\n",
       "      <td>0.018054</td>\n",
       "      <td>0.000586</td>\n",
       "      <td>0.001234</td>\n",
       "      <td>-0.012925</td>\n",
       "      <td>-0.015562</td>\n",
       "      <td>0.014368</td>\n",
       "      <td>0.000974</td>\n",
       "    </tr>\n",
       "    <tr>\n",
       "      <th>1997</th>\n",
       "      <td>0.009202</td>\n",
       "      <td>0.004181</td>\n",
       "      <td>0.010670</td>\n",
       "      <td>0.016573</td>\n",
       "      <td>0.009098</td>\n",
       "      <td>0.007065</td>\n",
       "      <td>0.005246</td>\n",
       "      <td>0.007817</td>\n",
       "      <td>0.026373</td>\n",
       "      <td>0.011137</td>\n",
       "      <td>...</td>\n",
       "      <td>0.001841</td>\n",
       "      <td>-0.001456</td>\n",
       "      <td>-0.000383</td>\n",
       "      <td>0.000351</td>\n",
       "      <td>-0.005544</td>\n",
       "      <td>-0.014237</td>\n",
       "      <td>-0.026565</td>\n",
       "      <td>-0.007928</td>\n",
       "      <td>0.005718</td>\n",
       "      <td>0.004673</td>\n",
       "    </tr>\n",
       "    <tr>\n",
       "      <th>1998</th>\n",
       "      <td>0.012931</td>\n",
       "      <td>-0.014421</td>\n",
       "      <td>0.009904</td>\n",
       "      <td>0.025936</td>\n",
       "      <td>0.004444</td>\n",
       "      <td>-0.000863</td>\n",
       "      <td>-0.005330</td>\n",
       "      <td>0.020063</td>\n",
       "      <td>0.018949</td>\n",
       "      <td>0.000314</td>\n",
       "      <td>...</td>\n",
       "      <td>-0.004055</td>\n",
       "      <td>-0.005652</td>\n",
       "      <td>-0.002921</td>\n",
       "      <td>0.003979</td>\n",
       "      <td>0.000119</td>\n",
       "      <td>-0.017577</td>\n",
       "      <td>-0.028429</td>\n",
       "      <td>-0.014860</td>\n",
       "      <td>0.000281</td>\n",
       "      <td>0.012611</td>\n",
       "    </tr>\n",
       "    <tr>\n",
       "      <th>1999</th>\n",
       "      <td>0.010238</td>\n",
       "      <td>-0.012695</td>\n",
       "      <td>-0.002602</td>\n",
       "      <td>0.021372</td>\n",
       "      <td>0.005197</td>\n",
       "      <td>0.012159</td>\n",
       "      <td>-0.010271</td>\n",
       "      <td>0.008178</td>\n",
       "      <td>0.005839</td>\n",
       "      <td>0.009673</td>\n",
       "      <td>...</td>\n",
       "      <td>-0.014178</td>\n",
       "      <td>0.004802</td>\n",
       "      <td>-0.003566</td>\n",
       "      <td>0.006099</td>\n",
       "      <td>-0.002350</td>\n",
       "      <td>-0.006706</td>\n",
       "      <td>-0.011030</td>\n",
       "      <td>-0.007361</td>\n",
       "      <td>-0.000814</td>\n",
       "      <td>0.003351</td>\n",
       "    </tr>\n",
       "  </tbody>\n",
       "</table>\n",
       "<p>2000 rows × 2622 columns</p>\n",
       "</div>"
      ],
      "text/plain": [
       "          0         1         2         3         4         5         6     \\\n",
       "0     0.013631  0.006611  0.001769  0.006816  0.017156  0.021896 -0.002151   \n",
       "1     0.001027  0.009659 -0.012803  0.007168  0.014574  0.029039  0.021830   \n",
       "2     0.022090  0.010806 -0.009623  0.006210  0.015311  0.027780  0.002337   \n",
       "3     0.019124  0.004529 -0.013105  0.013217  0.017883  0.015584  0.006625   \n",
       "4     0.010663  0.011862 -0.020526  0.014488  0.019959 -0.002666 -0.019209   \n",
       "...        ...       ...       ...       ...       ...       ...       ...   \n",
       "1995  0.004430 -0.007365  0.000537  0.021709  0.004793  0.021291 -0.005495   \n",
       "1996  0.012511  0.016096 -0.005551  0.007447  0.001542  0.009078  0.002903   \n",
       "1997  0.009202  0.004181  0.010670  0.016573  0.009098  0.007065  0.005246   \n",
       "1998  0.012931 -0.014421  0.009904  0.025936  0.004444 -0.000863 -0.005330   \n",
       "1999  0.010238 -0.012695 -0.002602  0.021372  0.005197  0.012159 -0.010271   \n",
       "\n",
       "          7         8         9     ...      2612      2613      2614  \\\n",
       "0     0.004057 -0.011011 -0.002412  ... -0.014792  0.002127 -0.014581   \n",
       "1     0.023140  0.004749 -0.002216  ... -0.026003 -0.012684 -0.007423   \n",
       "2     0.012288 -0.006372  0.019720  ... -0.006503 -0.001646 -0.023101   \n",
       "3     0.032401 -0.000201  0.023196  ... -0.011800 -0.009858 -0.006466   \n",
       "4     0.016727 -0.013771  0.009205  ... -0.021748 -0.030093 -0.014066   \n",
       "...        ...       ...       ...  ...       ...       ...       ...   \n",
       "1995  0.005130  0.017735 -0.007102  ... -0.012751  0.005892  0.002860   \n",
       "1996  0.006447  0.004962  0.003241  ... -0.009292  0.018543  0.001671   \n",
       "1997  0.007817  0.026373  0.011137  ...  0.001841 -0.001456 -0.000383   \n",
       "1998  0.020063  0.018949  0.000314  ... -0.004055 -0.005652 -0.002921   \n",
       "1999  0.008178  0.005839  0.009673  ... -0.014178  0.004802 -0.003566   \n",
       "\n",
       "          2615      2616      2617      2618      2619      2620      2621  \n",
       "0     0.002920  0.018414 -0.026867 -0.004893 -0.032110  0.003280 -0.009990  \n",
       "1     0.017242  0.021423 -0.022279 -0.003210 -0.029162  0.008088  0.021325  \n",
       "2     0.020786  0.018775 -0.037134 -0.009516 -0.028309  0.005284  0.010383  \n",
       "3     0.030965  0.020019 -0.024566 -0.010479 -0.017863  0.009475  0.019993  \n",
       "4     0.022290  0.035661 -0.019932 -0.018376  0.016488  0.012769  0.022522  \n",
       "...        ...       ...       ...       ...       ...       ...       ...  \n",
       "1995  0.008258  0.008365  0.000243 -0.018445 -0.014606  0.002733 -0.006109  \n",
       "1996  0.018054  0.000586  0.001234 -0.012925 -0.015562  0.014368  0.000974  \n",
       "1997  0.000351 -0.005544 -0.014237 -0.026565 -0.007928  0.005718  0.004673  \n",
       "1998  0.003979  0.000119 -0.017577 -0.028429 -0.014860  0.000281  0.012611  \n",
       "1999  0.006099 -0.002350 -0.006706 -0.011030 -0.007361 -0.000814  0.003351  \n",
       "\n",
       "[2000 rows x 2622 columns]"
      ]
     },
     "execution_count": 10,
     "metadata": {},
     "output_type": "execute_result"
    }
   ],
   "source": [
    "#Splting dataframe to feature and labels\n",
    "X = df_train.iloc[:,:-1]\n",
    "y = df_train.iloc[:,-1]\n",
    "X"
   ]
  },
  {
   "cell_type": "code",
   "execution_count": 11,
   "id": "296e3313",
   "metadata": {
    "execution": {
     "iopub.execute_input": "2022-03-16T17:48:00.615978Z",
     "iopub.status.busy": "2022-03-16T17:48:00.601585Z",
     "iopub.status.idle": "2022-03-16T17:48:00.618120Z",
     "shell.execute_reply": "2022-03-16T17:48:00.618598Z",
     "shell.execute_reply.started": "2022-03-16T16:11:31.739929Z"
    },
    "papermill": {
     "duration": 0.366415,
     "end_time": "2022-03-16T17:48:00.618773",
     "exception": false,
     "start_time": "2022-03-16T17:48:00.252358",
     "status": "completed"
    },
    "tags": []
   },
   "outputs": [],
   "source": [
    "#Test-Train split data\n",
    "X_train, X_test, y_train, y_test = train_test_split(X, y, test_size=0.1, random_state=42)"
   ]
  },
  {
   "cell_type": "code",
   "execution_count": 12,
   "id": "67d2a24e",
   "metadata": {
    "execution": {
     "iopub.execute_input": "2022-03-16T17:48:01.306326Z",
     "iopub.status.busy": "2022-03-16T17:48:01.305665Z",
     "iopub.status.idle": "2022-03-16T17:48:01.309012Z",
     "shell.execute_reply": "2022-03-16T17:48:01.309618Z",
     "shell.execute_reply.started": "2022-03-16T16:11:31.762128Z"
    },
    "papermill": {
     "duration": 0.350781,
     "end_time": "2022-03-16T17:48:01.309805",
     "exception": false,
     "start_time": "2022-03-16T17:48:00.959024",
     "status": "completed"
    },
    "tags": []
   },
   "outputs": [
    {
     "name": "stdout",
     "output_type": "stream",
     "text": [
      "X_train shape : (1800,2622)\n",
      "y_train shape : (1800,)\n",
      "X_test shape : (200,2622)\n",
      "y_test shape : (200,)\n"
     ]
    }
   ],
   "source": [
    "print('X_train shape : ({0},{1})'.format(X_train.shape[0], X_train.shape[1]))\n",
    "print('y_train shape : ({0},)'.format(y_train.shape[0]))\n",
    "print('X_test shape : ({0},{1})'.format(X_test.shape[0], X_test.shape[1]))\n",
    "print('y_test shape : ({0},)'.format(y_test.shape[0]))"
   ]
  },
  {
   "cell_type": "code",
   "execution_count": 13,
   "id": "41f78552",
   "metadata": {
    "execution": {
     "iopub.execute_input": "2022-03-16T17:48:02.221592Z",
     "iopub.status.busy": "2022-03-16T17:48:02.220710Z",
     "iopub.status.idle": "2022-03-16T17:48:02.401601Z",
     "shell.execute_reply": "2022-03-16T17:48:02.402325Z",
     "shell.execute_reply.started": "2022-03-16T16:11:31.769830Z"
    },
    "papermill": {
     "duration": 0.751574,
     "end_time": "2022-03-16T17:48:02.402541",
     "exception": false,
     "start_time": "2022-03-16T17:48:01.650967",
     "status": "completed"
    },
    "tags": []
   },
   "outputs": [],
   "source": [
    "#Scalling the input feature\n",
    "scaler = StandardScaler()\n",
    "X_train_std = scaler.fit_transform(X_train)\n",
    "X_test_std = scaler.transform(X_test)"
   ]
  },
  {
   "cell_type": "markdown",
   "id": "d22a15cc",
   "metadata": {
    "papermill": {
     "duration": 0.341042,
     "end_time": "2022-03-16T17:48:03.273090",
     "exception": false,
     "start_time": "2022-03-16T17:48:02.932048",
     "status": "completed"
    },
    "tags": []
   },
   "source": [
    "### PCA Processing"
   ]
  },
  {
   "cell_type": "code",
   "execution_count": 14,
   "id": "5f719559",
   "metadata": {
    "execution": {
     "iopub.execute_input": "2022-03-16T17:48:03.958293Z",
     "iopub.status.busy": "2022-03-16T17:48:03.957021Z",
     "iopub.status.idle": "2022-03-16T17:48:17.201215Z",
     "shell.execute_reply": "2022-03-16T17:48:17.201664Z",
     "shell.execute_reply.started": "2022-03-16T16:11:31.905054Z"
    },
    "papermill": {
     "duration": 13.5921,
     "end_time": "2022-03-16T17:48:17.201847",
     "exception": false,
     "start_time": "2022-03-16T17:48:03.609747",
     "status": "completed"
    },
    "tags": []
   },
   "outputs": [
    {
     "name": "stdout",
     "output_type": "stream",
     "text": [
      "Cumulative Variance Explained [ 12.83202781+0.00000000e+00j  19.53975362+0.00000000e+00j\n",
      "  25.14059773+0.00000000e+00j ... 100.        +0.00000000e+00j\n",
      " 100.        +4.62439037e-17j 100.        +0.00000000e+00j]\n"
     ]
    }
   ],
   "source": [
    "#PCA Calculation\n",
    "# Covariance matrix\n",
    "cov_matrix = np.cov(X_train_std.T)\n",
    "\n",
    "# Eigen values and vector\n",
    "eig_vals, eig_vecs = np.linalg.eig(cov_matrix)\n",
    "\n",
    "# Cumulative variance explained\n",
    "tot = sum(eig_vals)\n",
    "var_exp = [(i /tot) * 100 for i in sorted(eig_vals, reverse = True)]\n",
    "cum_var_exp = np.cumsum(var_exp)\n",
    "\n",
    "print('Cumulative Variance Explained', cum_var_exp)"
   ]
  },
  {
   "cell_type": "code",
   "execution_count": 15,
   "id": "5a4af04a",
   "metadata": {
    "execution": {
     "iopub.execute_input": "2022-03-16T17:48:17.980360Z",
     "iopub.status.busy": "2022-03-16T17:48:17.979727Z",
     "iopub.status.idle": "2022-03-16T17:48:17.982597Z",
     "shell.execute_reply": "2022-03-16T17:48:17.983344Z",
     "shell.execute_reply.started": "2022-03-16T16:11:44.389101Z"
    },
    "papermill": {
     "duration": 0.441537,
     "end_time": "2022-03-16T17:48:17.983604",
     "exception": false,
     "start_time": "2022-03-16T17:48:17.542067",
     "status": "completed"
    },
    "tags": []
   },
   "outputs": [
    {
     "name": "stdout",
     "output_type": "stream",
     "text": [
      "Index of element just greater than 95: 301\n"
     ]
    }
   ],
   "source": [
    "# Get index where cumulative variance explained is > threshold\n",
    "thres = 95\n",
    "res = list(filter(lambda i: i > thres, cum_var_exp))[0]\n",
    "index = (cum_var_exp.tolist().index(res))\n",
    "\n",
    "print(f'Index of element just greater than {thres}: {str(index)}')"
   ]
  },
  {
   "cell_type": "code",
   "execution_count": 16,
   "id": "7bbd623d",
   "metadata": {
    "execution": {
     "iopub.execute_input": "2022-03-16T17:48:18.854361Z",
     "iopub.status.busy": "2022-03-16T17:48:18.853438Z",
     "iopub.status.idle": "2022-03-16T17:48:20.670279Z",
     "shell.execute_reply": "2022-03-16T17:48:20.671033Z",
     "shell.execute_reply.started": "2022-03-16T16:11:44.399904Z"
    },
    "papermill": {
     "duration": 2.166646,
     "end_time": "2022-03-16T17:48:20.671300",
     "exception": false,
     "start_time": "2022-03-16T17:48:18.504654",
     "status": "completed"
    },
    "tags": []
   },
   "outputs": [],
   "source": [
    "#Implementing PCA to reduce dimentions\n",
    "pca = PCA(n_components=index)\n",
    "X_train_pca = pca.fit_transform(X_train_std)\n",
    "X_test_pca = pca.transform(X_test_std)"
   ]
  },
  {
   "cell_type": "markdown",
   "id": "5692fb6d",
   "metadata": {
    "papermill": {
     "duration": 0.340533,
     "end_time": "2022-03-16T17:48:21.464488",
     "exception": false,
     "start_time": "2022-03-16T17:48:21.123955",
     "status": "completed"
    },
    "tags": []
   },
   "source": [
    "### SVM Classifier"
   ]
  },
  {
   "cell_type": "code",
   "execution_count": 17,
   "id": "781d6f6e",
   "metadata": {
    "execution": {
     "iopub.execute_input": "2022-03-16T17:48:22.151750Z",
     "iopub.status.busy": "2022-03-16T17:48:22.151079Z",
     "iopub.status.idle": "2022-03-16T17:48:22.733818Z",
     "shell.execute_reply": "2022-03-16T17:48:22.734378Z",
     "shell.execute_reply.started": "2022-03-16T16:11:46.082480Z"
    },
    "papermill": {
     "duration": 0.931129,
     "end_time": "2022-03-16T17:48:22.734568",
     "exception": false,
     "start_time": "2022-03-16T17:48:21.803439",
     "status": "completed"
    },
    "tags": []
   },
   "outputs": [
    {
     "data": {
      "text/plain": [
       "SVC(class_weight='balanced', gamma=0.0001)"
      ]
     },
     "execution_count": 17,
     "metadata": {},
     "output_type": "execute_result"
    }
   ],
   "source": [
    "#Training the data using SVM classfier with tuneable Hyper-paramenters\n",
    "clf = SVC(C=1., gamma=0.0001,kernel = 'rbf', class_weight = 'balanced')\n",
    "clf.fit(X_train_pca, y_train)"
   ]
  },
  {
   "cell_type": "code",
   "execution_count": 18,
   "id": "7982021f",
   "metadata": {
    "execution": {
     "iopub.execute_input": "2022-03-16T17:48:23.436736Z",
     "iopub.status.busy": "2022-03-16T17:48:23.435833Z",
     "iopub.status.idle": "2022-03-16T17:48:23.599901Z",
     "shell.execute_reply": "2022-03-16T17:48:23.599280Z",
     "shell.execute_reply.started": "2022-03-16T16:21:14.221535Z"
    },
    "papermill": {
     "duration": 0.519874,
     "end_time": "2022-03-16T17:48:23.600025",
     "exception": false,
     "start_time": "2022-03-16T17:48:23.080151",
     "status": "completed"
    },
    "tags": []
   },
   "outputs": [],
   "source": [
    "#Predecting the output\n",
    "y_predict = clf.predict(X_test_pca)"
   ]
  },
  {
   "cell_type": "code",
   "execution_count": 19,
   "id": "4c0f59cc",
   "metadata": {
    "execution": {
     "iopub.execute_input": "2022-03-16T17:48:24.294839Z",
     "iopub.status.busy": "2022-03-16T17:48:24.294013Z",
     "iopub.status.idle": "2022-03-16T17:48:24.303361Z",
     "shell.execute_reply": "2022-03-16T17:48:24.303904Z",
     "shell.execute_reply.started": "2022-03-16T16:30:56.137968Z"
    },
    "papermill": {
     "duration": 0.361226,
     "end_time": "2022-03-16T17:48:24.304091",
     "exception": false,
     "start_time": "2022-03-16T17:48:23.942865",
     "status": "completed"
    },
    "tags": []
   },
   "outputs": [
    {
     "name": "stdout",
     "output_type": "stream",
     "text": [
      "Model Accuracy:  90.5 %\n"
     ]
    }
   ],
   "source": [
    "#Accuracy of model\n",
    "print(\"Model Accuracy: \", accuracy_score(y_test, y_predict)*100, \"%\")"
   ]
  },
  {
   "cell_type": "code",
   "execution_count": 20,
   "id": "b87808f4",
   "metadata": {
    "execution": {
     "iopub.execute_input": "2022-03-16T17:48:24.993441Z",
     "iopub.status.busy": "2022-03-16T17:48:24.992479Z",
     "iopub.status.idle": "2022-03-16T17:48:25.009009Z",
     "shell.execute_reply": "2022-03-16T17:48:25.009689Z",
     "shell.execute_reply.started": "2022-03-16T16:34:27.757129Z"
    },
    "papermill": {
     "duration": 0.365979,
     "end_time": "2022-03-16T17:48:25.009900",
     "exception": false,
     "start_time": "2022-03-16T17:48:24.643921",
     "status": "completed"
    },
    "tags": []
   },
   "outputs": [
    {
     "name": "stdout",
     "output_type": "stream",
     "text": [
      "              precision    recall  f1-score   support\n",
      "\n",
      "          17       1.00      1.00      1.00         3\n",
      "          54       1.00      1.00      1.00         5\n",
      "         137       1.00      1.00      1.00         2\n",
      "         208       1.00      1.00      1.00         4\n",
      "         319       1.00      1.00      1.00         3\n",
      "         463       1.00      0.50      0.67         2\n",
      "         570       1.00      0.33      0.50         3\n",
      "         585       0.67      1.00      0.80         2\n",
      "         615       1.00      1.00      1.00         1\n",
      "         641       0.75      1.00      0.86         3\n",
      "         681       1.00      0.50      0.67         2\n",
      "         752       0.00      0.00      0.00         1\n",
      "         962       1.00      1.00      1.00         2\n",
      "         985       1.00      0.67      0.80         3\n",
      "        1054       1.00      1.00      1.00         2\n",
      "        1149       1.00      0.80      0.89         5\n",
      "        1158       0.33      1.00      0.50         1\n",
      "        1470       1.00      1.00      1.00         2\n",
      "        1522       1.00      1.00      1.00         1\n",
      "        1758       0.67      0.67      0.67         3\n",
      "        1773       1.00      1.00      1.00         1\n",
      "        1801       1.00      1.00      1.00         4\n",
      "        1905       1.00      1.00      1.00         3\n",
      "        1968       1.00      0.67      0.80         3\n",
      "        1984       0.00      0.00      0.00         0\n",
      "        1990       1.00      1.00      1.00         2\n",
      "        2186       0.67      1.00      0.80         2\n",
      "        2224       1.00      0.75      0.86         4\n",
      "        2292       1.00      1.00      1.00         3\n",
      "        2354       1.00      1.00      1.00         2\n",
      "        2520       1.00      1.00      1.00         1\n",
      "        2550       0.67      1.00      0.80         2\n",
      "        2619       1.00      1.00      1.00         1\n",
      "        2702       1.00      1.00      1.00         2\n",
      "        2751       1.00      1.00      1.00         1\n",
      "        2822       0.00      0.00      0.00         1\n",
      "        3049       1.00      1.00      1.00         3\n",
      "        3078       1.00      1.00      1.00         3\n",
      "        3098       1.00      1.00      1.00         2\n",
      "        3189       1.00      0.50      0.67         4\n",
      "        3245       1.00      0.67      0.80         3\n",
      "        3252       1.00      1.00      1.00         2\n",
      "        3279       0.75      1.00      0.86         3\n",
      "        3375       1.00      1.00      1.00         2\n",
      "        3462       1.00      1.00      1.00         3\n",
      "        3527       0.75      1.00      0.86         3\n",
      "        3647       1.00      1.00      1.00         2\n",
      "        4071       1.00      1.00      1.00         3\n",
      "        4091       1.00      1.00      1.00         2\n",
      "        4113       0.67      0.67      0.67         3\n",
      "        4133       1.00      1.00      1.00         4\n",
      "        4273       1.00      1.00      1.00         1\n",
      "        4483       1.00      1.00      1.00         2\n",
      "        4500       1.00      1.00      1.00         1\n",
      "        4528       1.00      1.00      1.00         4\n",
      "        4569       1.00      1.00      1.00         2\n",
      "        4659       1.00      0.50      0.67         2\n",
      "        4706       1.00      1.00      1.00         3\n",
      "        4833       1.00      1.00      1.00         2\n",
      "        5014       1.00      1.00      1.00         2\n",
      "        5048       1.00      1.00      1.00         1\n",
      "        5119       1.00      1.00      1.00         1\n",
      "        5374       1.00      1.00      1.00         1\n",
      "        5476       1.00      1.00      1.00         2\n",
      "        5582       1.00      1.00      1.00         2\n",
      "        5597       1.00      1.00      1.00         2\n",
      "        5714       1.00      1.00      1.00         1\n",
      "        5734       1.00      1.00      1.00         1\n",
      "        6042       1.00      0.50      0.67         2\n",
      "        6200       1.00      1.00      1.00         4\n",
      "        6428       1.00      0.50      0.67         2\n",
      "        6494       1.00      1.00      1.00         1\n",
      "        6615       1.00      1.00      1.00         1\n",
      "        6735       0.00      0.00      0.00         0\n",
      "        6790       0.80      1.00      0.89         4\n",
      "        6947       1.00      0.50      0.67         2\n",
      "        6972       1.00      1.00      1.00         1\n",
      "        7054       0.50      1.00      0.67         1\n",
      "        7165       1.00      1.00      1.00         1\n",
      "        7181       1.00      1.00      1.00         3\n",
      "        7461       0.50      1.00      0.67         1\n",
      "        7615       0.80      1.00      0.89         4\n",
      "        7667       1.00      1.00      1.00         4\n",
      "        7959       0.50      1.00      0.67         1\n",
      "        8082       1.00      1.00      1.00         2\n",
      "        8186       1.00      1.00      1.00         2\n",
      "        8215       0.00      0.00      0.00         0\n",
      "        8623       1.00      1.00      1.00         1\n",
      "        8905       1.00      1.00      1.00         3\n",
      "        8964       1.00      1.00      1.00         1\n",
      "        8993       1.00      1.00      1.00         2\n",
      "        9098       1.00      1.00      1.00         3\n",
      "\n",
      "    accuracy                           0.91       200\n",
      "   macro avg       0.89      0.88      0.87       200\n",
      "weighted avg       0.94      0.91      0.91       200\n",
      "\n"
     ]
    },
    {
     "name": "stderr",
     "output_type": "stream",
     "text": [
      "/opt/conda/lib/python3.7/site-packages/sklearn/metrics/_classification.py:1308: UndefinedMetricWarning: Precision and F-score are ill-defined and being set to 0.0 in labels with no predicted samples. Use `zero_division` parameter to control this behavior.\n",
      "  _warn_prf(average, modifier, msg_start, len(result))\n",
      "/opt/conda/lib/python3.7/site-packages/sklearn/metrics/_classification.py:1308: UndefinedMetricWarning: Recall and F-score are ill-defined and being set to 0.0 in labels with no true samples. Use `zero_division` parameter to control this behavior.\n",
      "  _warn_prf(average, modifier, msg_start, len(result))\n",
      "/opt/conda/lib/python3.7/site-packages/sklearn/metrics/_classification.py:1308: UndefinedMetricWarning: Precision and F-score are ill-defined and being set to 0.0 in labels with no predicted samples. Use `zero_division` parameter to control this behavior.\n",
      "  _warn_prf(average, modifier, msg_start, len(result))\n",
      "/opt/conda/lib/python3.7/site-packages/sklearn/metrics/_classification.py:1308: UndefinedMetricWarning: Recall and F-score are ill-defined and being set to 0.0 in labels with no true samples. Use `zero_division` parameter to control this behavior.\n",
      "  _warn_prf(average, modifier, msg_start, len(result))\n",
      "/opt/conda/lib/python3.7/site-packages/sklearn/metrics/_classification.py:1308: UndefinedMetricWarning: Precision and F-score are ill-defined and being set to 0.0 in labels with no predicted samples. Use `zero_division` parameter to control this behavior.\n",
      "  _warn_prf(average, modifier, msg_start, len(result))\n",
      "/opt/conda/lib/python3.7/site-packages/sklearn/metrics/_classification.py:1308: UndefinedMetricWarning: Recall and F-score are ill-defined and being set to 0.0 in labels with no true samples. Use `zero_division` parameter to control this behavior.\n",
      "  _warn_prf(average, modifier, msg_start, len(result))\n"
     ]
    }
   ],
   "source": [
    "#Classification Report\n",
    "print(classification_report(y_test, y_predict))"
   ]
  },
  {
   "cell_type": "markdown",
   "id": "4e137b3f",
   "metadata": {
    "papermill": {
     "duration": 0.340889,
     "end_time": "2022-03-16T17:48:25.696851",
     "exception": false,
     "start_time": "2022-03-16T17:48:25.355962",
     "status": "completed"
    },
    "tags": []
   },
   "source": [
    "### Final Test Data Processing"
   ]
  },
  {
   "cell_type": "code",
   "execution_count": 21,
   "id": "ee5697ab",
   "metadata": {
    "execution": {
     "iopub.execute_input": "2022-03-16T17:48:26.429268Z",
     "iopub.status.busy": "2022-03-16T17:48:26.428407Z",
     "iopub.status.idle": "2022-03-16T17:48:26.430381Z",
     "shell.execute_reply": "2022-03-16T17:48:26.430846Z",
     "shell.execute_reply.started": "2022-03-16T16:11:47.129134Z"
    },
    "papermill": {
     "duration": 0.351645,
     "end_time": "2022-03-16T17:48:26.430986",
     "exception": false,
     "start_time": "2022-03-16T17:48:26.079341",
     "status": "completed"
    },
    "tags": []
   },
   "outputs": [],
   "source": [
    "#Test Data Directory\n",
    "test_dir=os.path.join('/kaggle/input/11-785-s22-hw2p2-classification/classification/classification/test')"
   ]
  },
  {
   "cell_type": "code",
   "execution_count": 22,
   "id": "c0b3bbdb",
   "metadata": {
    "execution": {
     "iopub.execute_input": "2022-03-16T17:48:27.119667Z",
     "iopub.status.busy": "2022-03-16T17:48:27.118811Z",
     "iopub.status.idle": "2022-03-16T17:48:27.120540Z",
     "shell.execute_reply": "2022-03-16T17:48:27.120972Z",
     "shell.execute_reply.started": "2022-03-16T16:11:47.139861Z"
    },
    "papermill": {
     "duration": 0.349712,
     "end_time": "2022-03-16T17:48:27.121105",
     "exception": false,
     "start_time": "2022-03-16T17:48:26.771393",
     "status": "completed"
    },
    "tags": []
   },
   "outputs": [],
   "source": [
    "#Class for loading Test images from direcotry\n",
    "class TestdataDir():\n",
    "    def __init__(self, base, file):\n",
    "        self.base = base\n",
    "        self.file = file\n",
    "\n",
    "    def __repr__(self):\n",
    "        return self.image_path()\n",
    "\n",
    "    def image_path(self):\n",
    "        return os.path.join(self.base, self.file) \n",
    "    "
   ]
  },
  {
   "cell_type": "code",
   "execution_count": 23,
   "id": "0191712d",
   "metadata": {
    "execution": {
     "iopub.execute_input": "2022-03-16T17:48:27.821648Z",
     "iopub.status.busy": "2022-03-16T17:48:27.820932Z",
     "iopub.status.idle": "2022-03-16T17:48:28.688108Z",
     "shell.execute_reply": "2022-03-16T17:48:28.687617Z",
     "shell.execute_reply.started": "2022-03-16T16:11:47.154233Z"
    },
    "papermill": {
     "duration": 1.225049,
     "end_time": "2022-03-16T17:48:28.688240",
     "exception": false,
     "start_time": "2022-03-16T17:48:27.463191",
     "status": "completed"
    },
    "tags": []
   },
   "outputs": [],
   "source": [
    "#Loading Test data from Classifiaction folder\n",
    "test_data = []\n",
    "k = 0\n",
    "for i in os.listdir(test_dir):\n",
    "     k+=1\n",
    "     if k == 500: #For testing purpose else comment this\n",
    "      break\n",
    "     test_data.append(TestdataDir(test_dir, i))\n",
    "test_data = np.array(test_data)"
   ]
  },
  {
   "cell_type": "code",
   "execution_count": 24,
   "id": "297b463d",
   "metadata": {
    "execution": {
     "iopub.execute_input": "2022-03-16T17:48:29.697323Z",
     "iopub.status.busy": "2022-03-16T17:48:29.694712Z",
     "iopub.status.idle": "2022-03-16T17:49:14.466186Z",
     "shell.execute_reply": "2022-03-16T17:49:14.466807Z",
     "shell.execute_reply.started": "2022-03-16T16:11:47.912664Z"
    },
    "papermill": {
     "duration": 45.229049,
     "end_time": "2022-03-16T17:49:14.467011",
     "exception": false,
     "start_time": "2022-03-16T17:48:29.237962",
     "status": "completed"
    },
    "tags": []
   },
   "outputs": [
    {
     "name": "stderr",
     "output_type": "stream",
     "text": [
      "499it [00:44, 11.15it/s]\n"
     ]
    }
   ],
   "source": [
    "#Embedding the Test images in the model\n",
    "embeddings_test = np.zeros((test_data.shape[0], 2622))\n",
    "for i, m in tqdm(enumerate(test_data)):\n",
    "    img_path = test_data[i].image_path()\n",
    "    img = load_image(img_path)\n",
    "    img = (img / 255.).astype(np.float32)\n",
    "    img = cv2.resize(img, dsize = (224,224))\n",
    "    embedding_vector = vgg_face_descriptor.predict(np.expand_dims(img, axis=0))[0]\n",
    "    embeddings_test[i]=embedding_vector"
   ]
  },
  {
   "cell_type": "code",
   "execution_count": 25,
   "id": "8666eed7",
   "metadata": {
    "execution": {
     "iopub.execute_input": "2022-03-16T17:49:15.316953Z",
     "iopub.status.busy": "2022-03-16T17:49:15.315918Z",
     "iopub.status.idle": "2022-03-16T17:49:16.662855Z",
     "shell.execute_reply": "2022-03-16T17:49:16.661939Z",
     "shell.execute_reply.started": "2022-03-16T16:12:33.792103Z"
    },
    "papermill": {
     "duration": 1.775126,
     "end_time": "2022-03-16T17:49:16.663000",
     "exception": false,
     "start_time": "2022-03-16T17:49:14.887874",
     "status": "completed"
    },
    "tags": []
   },
   "outputs": [],
   "source": [
    "#Preprocessing the test images adn predicting output\n",
    "res_test = scaler.transform(embeddings_test)\n",
    "res_test_pca = pca.fit_transform(res_test)\n",
    "res_predict = clf.predict(res_test_pca)"
   ]
  },
  {
   "cell_type": "code",
   "execution_count": 26,
   "id": "c94f4160",
   "metadata": {
    "execution": {
     "iopub.execute_input": "2022-03-16T17:49:17.566201Z",
     "iopub.status.busy": "2022-03-16T17:49:17.565535Z",
     "iopub.status.idle": "2022-03-16T17:49:17.595775Z",
     "shell.execute_reply": "2022-03-16T17:49:17.596171Z",
     "shell.execute_reply.started": "2022-03-16T16:34:51.244231Z"
    },
    "papermill": {
     "duration": 0.51216,
     "end_time": "2022-03-16T17:49:17.596335",
     "exception": false,
     "start_time": "2022-03-16T17:49:17.084175",
     "status": "completed"
    },
    "tags": []
   },
   "outputs": [],
   "source": [
    "#Read the sample output format\n",
    "result = pd.read_csv('../input/11-785-s22-hw2p2-classification/classification_sample_submission.csv')"
   ]
  },
  {
   "cell_type": "code",
   "execution_count": 27,
   "id": "62a126d9",
   "metadata": {
    "execution": {
     "iopub.execute_input": "2022-03-16T17:49:18.437396Z",
     "iopub.status.busy": "2022-03-16T17:49:18.436461Z",
     "iopub.status.idle": "2022-03-16T17:49:18.548288Z",
     "shell.execute_reply": "2022-03-16T17:49:18.547834Z",
     "shell.execute_reply.started": "2022-03-16T16:12:34.865825Z"
    },
    "papermill": {
     "duration": 0.534835,
     "end_time": "2022-03-16T17:49:18.548418",
     "exception": false,
     "start_time": "2022-03-16T17:49:18.013583",
     "status": "completed"
    },
    "tags": []
   },
   "outputs": [],
   "source": [
    "#Storeing the output in dataframe\n",
    "for i in range(len(res_predict)):\n",
    "    result.iloc[i,1]=res_predict[i]"
   ]
  },
  {
   "cell_type": "code",
   "execution_count": 28,
   "id": "158bd77c",
   "metadata": {
    "execution": {
     "iopub.execute_input": "2022-03-16T17:49:19.389909Z",
     "iopub.status.busy": "2022-03-16T17:49:19.389036Z",
     "iopub.status.idle": "2022-03-16T17:49:19.449434Z",
     "shell.execute_reply": "2022-03-16T17:49:19.449856Z",
     "shell.execute_reply.started": "2022-03-16T16:15:42.329418Z"
    },
    "papermill": {
     "duration": 0.483459,
     "end_time": "2022-03-16T17:49:19.449995",
     "exception": false,
     "start_time": "2022-03-16T17:49:18.966536",
     "status": "completed"
    },
    "tags": []
   },
   "outputs": [
    {
     "name": "stdout",
     "output_type": "stream",
     "text": [
      "Result Exported!\n"
     ]
    }
   ],
   "source": [
    "#Exporting the result in for submission in csv file\n",
    "result.to_csv(\"submission.csv\",index=False)\n",
    "print(\"Result Exported!\")"
   ]
  }
 ],
 "metadata": {
  "kernelspec": {
   "display_name": "Python 3",
   "language": "python",
   "name": "python3"
  },
  "language_info": {
   "codemirror_mode": {
    "name": "ipython",
    "version": 3
   },
   "file_extension": ".py",
   "mimetype": "text/x-python",
   "name": "python",
   "nbconvert_exporter": "python",
   "pygments_lexer": "ipython3",
   "version": "3.7.12"
  },
  "papermill": {
   "default_parameters": {},
   "duration": 295.765045,
   "end_time": "2022-03-16T17:49:23.016832",
   "environment_variables": {},
   "exception": null,
   "input_path": "__notebook__.ipynb",
   "output_path": "__notebook__.ipynb",
   "parameters": {},
   "start_time": "2022-03-16T17:44:27.251787",
   "version": "2.3.3"
  }
 },
 "nbformat": 4,
 "nbformat_minor": 5
}
